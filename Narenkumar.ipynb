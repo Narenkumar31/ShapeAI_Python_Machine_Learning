{
  "nbformat": 4,
  "nbformat_minor": 0,
  "metadata": {
    "colab": {
      "name": "Narenkumar.ipynb",
      "provenance": []
    },
    "kernelspec": {
      "name": "python3",
      "display_name": "Python 3"
    },
    "language_info": {
      "name": "python"
    }
  },
  "cells": [
    {
      "cell_type": "code",
      "metadata": {
        "colab": {
          "base_uri": "https://localhost:8080/"
        },
        "id": "W-109gDyrzro",
        "outputId": "d2c7b7eb-cab9-4b0f-c34e-46dd46d7a99b"
      },
      "source": [
        "import numpy as np\n",
        "import pandas as pd\n",
        "import sklearn\n",
        "from sklearn.datasets import load_boston\n",
        "df=load_boston()\n",
        "df.keys()\n",
        "boston=pd.DataFrame(df.data, columns=df.feature_names)\n",
        "boston['TARG']=df.target\n",
        "from sklearn.model_selection import train_test_split\n",
        "X = boston.drop('TARG',axis=1)\n",
        "Y = boston['TARG']\n",
        "X_train,X_test,Y_train,Y_test = train_test_split(X,Y,test_size = 0.15,random_state=5)\n",
        "from sklearn.linear_model import LinearRegression\n",
        "from sklearn.metrics import mean_squared_error\n",
        "li = LinearRegression()\n",
        "li.fit(X_train,Y_train)\n",
        "Y_train_predict=li.predict(X_train)\n",
        "rmse = (np.sqrt(mean_squared_error(Y_train,Y_train_predict)))\n",
        "print('RMSE is{}',format(rmse))\n",
        "print('\\n')\n",
        "Y_test_predict=li.predict(X_test)\n",
        "rmse = (np.sqrt(mean_squared_error(Y_test,Y_test_predict)))\n",
        "print('RMSE is{}',format(rmse))\n"
      ],
      "execution_count": 30,
      "outputs": [
        {
          "output_type": "stream",
          "text": [
            "RMSE is{} 4.710901797319796\n",
            "\n",
            "\n",
            "RMSE is{} 4.687543527902972\n"
          ],
          "name": "stdout"
        }
      ]
    }
  ]
}